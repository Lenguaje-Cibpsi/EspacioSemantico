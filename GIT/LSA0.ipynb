{
 "cells": [
  {
   "cell_type": "code",
   "execution_count": 53,
   "metadata": {},
   "outputs": [
    {
     "name": "stdout",
     "output_type": "stream",
     "text": [
      "[ 0.          0.33333333  0.66666667  1.          1.33333333  1.66666667\n",
      "  2.          2.33333333  2.66666667  3.        ]\n"
     ]
    }
   ],
   "source": [
    "import numpy as np\n",
    "import matplotlib.pyplot as plt\n",
    "%matplotlib inline \n",
    "#Ejemplos de matrices documento-palabra y su significado\n",
    "\n",
    "x=np.linspace(0,3, 10)\n",
    "print (x)\n"
   ]
  },
  {
   "cell_type": "code",
   "execution_count": 2,
   "metadata": {},
   "outputs": [
    {
     "data": {
      "text/plain": [
       "(10,)"
      ]
     },
     "execution_count": 2,
     "metadata": {},
     "output_type": "execute_result"
    }
   ],
   "source": []
  },
  {
   "cell_type": "code",
   "execution_count": 54,
   "metadata": {},
   "outputs": [],
   "source": [
    "A=np.matrix('1 2 3 0 0;0 0 0 1 1;1 0 1 0 0; 0 0 0 2 1')"
   ]
  },
  {
   "cell_type": "code",
   "execution_count": 5,
   "metadata": {},
   "outputs": [
    {
     "data": {
      "text/plain": [
       "matrix([[1, 2, 3, 0, 0],\n",
       "        [0, 0, 0, 1, 1],\n",
       "        [1, 0, 1, 0, 0],\n",
       "        [0, 0, 0, 2, 1]])"
      ]
     },
     "execution_count": 5,
     "metadata": {},
     "output_type": "execute_result"
    }
   ],
   "source": [
    "A"
   ]
  },
  {
   "cell_type": "code",
   "execution_count": 71,
   "metadata": {},
   "outputs": [],
   "source": [
    "U,S,V=np.linalg.svd(A, full_matrices=True)"
   ]
  },
  {
   "cell_type": "code",
   "execution_count": 72,
   "metadata": {},
   "outputs": [
    {
     "data": {
      "text/plain": [
       "matrix([[ 0.95709203,  0.        , -0.28978415,  0.        ],\n",
       "        [ 0.        , -0.52573111,  0.        ,  0.85065081],\n",
       "        [ 0.28978415,  0.        ,  0.95709203,  0.        ],\n",
       "        [-0.        , -0.85065081, -0.        , -0.52573111]])"
      ]
     },
     "execution_count": 72,
     "metadata": {},
     "output_type": "execute_result"
    }
   ],
   "source": [
    "U"
   ]
  },
  {
   "cell_type": "code",
   "execution_count": 73,
   "metadata": {},
   "outputs": [
    {
     "data": {
      "text/plain": [
       "matrix([[  3.19700253e-01,   4.90798636e-01,   8.10498888e-01,\n",
       "           0.00000000e+00,   0.00000000e+00],\n",
       "        [ -6.40987562e-17,  -6.40987562e-17,   6.40987562e-17,\n",
       "          -8.50650808e-01,  -5.25731112e-01],\n",
       "        [  7.51304476e-01,  -6.52520778e-01,   9.87836974e-02,\n",
       "           0.00000000e+00,   0.00000000e+00],\n",
       "        [ -3.20493781e-16,  -3.20493781e-16,   3.20493781e-16,\n",
       "          -5.25731112e-01,   8.50650808e-01],\n",
       "        [  5.77350269e-01,   5.77350269e-01,  -5.77350269e-01,\n",
       "          -2.54562284e-16,   5.22593833e-16]])"
      ]
     },
     "execution_count": 73,
     "metadata": {},
     "output_type": "execute_result"
    }
   ],
   "source": [
    "V"
   ]
  },
  {
   "cell_type": "code",
   "execution_count": 109,
   "metadata": {},
   "outputs": [],
   "source": [
    "def ndprint(a, format_string ='{0:.2f}'):\n",
    "    for i, v in enumerate(a):\n",
    "        print [format_string.format(v,i)]\n"
   ]
  },
  {
   "cell_type": "code",
   "execution_count": 75,
   "metadata": {},
   "outputs": [
    {
     "data": {
      "text/plain": [
       "matrix([[  3.19700253e-01,  -6.40987562e-17,   7.51304476e-01,\n",
       "          -3.20493781e-16,   5.77350269e-01],\n",
       "        [  4.90798636e-01,  -6.40987562e-17,  -6.52520778e-01,\n",
       "          -3.20493781e-16,   5.77350269e-01],\n",
       "        [  8.10498888e-01,   6.40987562e-17,   9.87836974e-02,\n",
       "           3.20493781e-16,  -5.77350269e-01],\n",
       "        [  0.00000000e+00,  -8.50650808e-01,   0.00000000e+00,\n",
       "          -5.25731112e-01,  -2.54562284e-16],\n",
       "        [  0.00000000e+00,  -5.25731112e-01,   0.00000000e+00,\n",
       "           8.50650808e-01,   5.22593833e-16]])"
      ]
     },
     "execution_count": 75,
     "metadata": {},
     "output_type": "execute_result"
    }
   ],
   "source": [
    "V.H"
   ]
  },
  {
   "cell_type": "code",
   "execution_count": 76,
   "metadata": {},
   "outputs": [
    {
     "name": "stdout",
     "output_type": "stream",
     "text": [
      "[[  3.19700253e-01  -6.40987562e-17   7.51304476e-01  -3.20493781e-16\n",
      "    5.77350269e-01]\n",
      " [  4.90798636e-01  -6.40987562e-17  -6.52520778e-01  -3.20493781e-16\n",
      "    5.77350269e-01]\n",
      " [  8.10498888e-01   6.40987562e-17   9.87836974e-02   3.20493781e-16\n",
      "   -5.77350269e-01]\n",
      " [  0.00000000e+00  -8.50650808e-01   0.00000000e+00  -5.25731112e-01\n",
      "   -2.54562284e-16]\n",
      " [  0.00000000e+00  -5.25731112e-01   0.00000000e+00   8.50650808e-01\n",
      "    5.22593833e-16]]\n"
     ]
    }
   ],
   "source": [
    "print (V.H)"
   ]
  },
  {
   "cell_type": "code",
   "execution_count": 95,
   "metadata": {},
   "outputs": [
    {
     "data": {
      "text/plain": [
       "matrix([[ 0.31970025, -0.        ,  0.75130448, -0.        ,  0.57735027],\n",
       "        [ 0.49079864, -0.        , -0.65252078, -0.        ,  0.57735027],\n",
       "        [ 0.81049889,  0.        ,  0.0987837 ,  0.        , -0.57735027],\n",
       "        [ 0.        , -0.85065081,  0.        , -0.52573111, -0.        ],\n",
       "        [ 0.        , -0.52573111,  0.        ,  0.85065081,  0.        ]])"
      ]
     },
     "execution_count": 95,
     "metadata": {},
     "output_type": "execute_result"
    }
   ],
   "source": [
    "np.multiply(V.H, abs(V.H)>0.00001)"
   ]
  },
  {
   "cell_type": "code",
   "execution_count": 79,
   "metadata": {},
   "outputs": [
    {
     "data": {
      "text/plain": [
       "array([ 3.90014135,  2.61803399,  0.88819899,  0.38196601])"
      ]
     },
     "execution_count": 79,
     "metadata": {},
     "output_type": "execute_result"
    }
   ],
   "source": [
    "S"
   ]
  },
  {
   "cell_type": "code",
   "execution_count": 89,
   "metadata": {},
   "outputs": [
    {
     "name": "stdout",
     "output_type": "stream",
     "text": [
      "[[ 3.90014135  0.          0.          0.          0.        ]\n",
      " [ 0.          2.61803399  0.          0.          0.        ]\n",
      " [ 0.          0.          0.88819899  0.          0.        ]\n",
      " [ 0.          0.          0.          0.38196601  0.        ]]\n"
     ]
    }
   ],
   "source": [
    "Sm=np.diag(S)\n",
    "Sm=np.c_[Sm,np.zeros((4,1))]\n",
    "print(Sm)"
   ]
  },
  {
   "cell_type": "code",
   "execution_count": 96,
   "metadata": {},
   "outputs": [],
   "source": [
    "Ar=U[:,0:1]*Sm[0:1,0:1]*V[0:1,:]\n",
    "Ar=np.multiply(Ar,Ar>0.00001)"
   ]
  },
  {
   "cell_type": "raw",
   "metadata": {},
   "source": [
    "print np.array_str(Ar, precision=2, suppress_small=True)"
   ]
  },
  {
   "cell_type": "code",
   "execution_count": 98,
   "metadata": {},
   "outputs": [
    {
     "data": {
      "text/plain": [
       "matrix([[ 1.19337525,  1.83205029,  3.02542554,  0.        ,  0.        ],\n",
       "        [ 0.        ,  0.        ,  0.        ,  0.        ,  0.        ],\n",
       "        [ 0.36132495,  0.5547002 ,  0.91602515,  0.        ,  0.        ],\n",
       "        [ 0.        ,  0.        ,  0.        ,  0.        ,  0.        ]])"
      ]
     },
     "execution_count": 98,
     "metadata": {},
     "output_type": "execute_result"
    }
   ],
   "source": [
    "Ar"
   ]
  },
  {
   "cell_type": "code",
   "execution_count": 111,
   "metadata": {},
   "outputs": [
    {
     "name": "stdout",
     "output_type": "stream",
     "text": [
      "[[  3.19700253e-01   4.90798636e-01   8.10498888e-01   0.00000000e+00\n",
      "    0.00000000e+00]\n",
      " [ -6.40987562e-17  -6.40987562e-17   6.40987562e-17  -8.50650808e-01\n",
      "   -5.25731112e-01]\n",
      " [  7.51304476e-01  -6.52520778e-01   9.87836974e-02   0.00000000e+00\n",
      "    0.00000000e+00]\n",
      " [ -3.20493781e-16  -3.20493781e-16   3.20493781e-16  -5.25731112e-01\n",
      "    8.50650808e-01]\n",
      " [  5.77350269e-01   5.77350269e-01  -5.77350269e-01  -2.54562284e-16\n",
      "    5.22593833e-16]]\n",
      "[[ 0.32  0.49  0.81  0.    0.  ]\n",
      " [-0.   -0.    0.   -0.85 -0.53]\n",
      " [ 0.75 -0.65  0.1   0.    0.  ]\n",
      " [-0.   -0.    0.   -0.53  0.85]\n",
      " [ 0.58  0.58 -0.58 -0.    0.  ]]\n"
     ]
    }
   ],
   "source": [
    "x=V.getA()\n",
    "print (x)\n",
    "print (np.array_str(x, precision=2, suppress_small=True))"
   ]
  },
  {
   "cell_type": "code",
   "execution_count": 67,
   "metadata": {},
   "outputs": [
    {
     "data": {
      "text/plain": [
       "(4, 5)"
      ]
     },
     "execution_count": 67,
     "metadata": {},
     "output_type": "execute_result"
    }
   ],
   "source": [
    "V.shape\n"
   ]
  },
  {
   "cell_type": "code",
   "execution_count": 69,
   "metadata": {},
   "outputs": [
    {
     "data": {
      "text/plain": [
       "matrix([[  3.19700253e-01,  -6.40987562e-17,   7.51304476e-01,\n",
       "          -3.20493781e-16],\n",
       "        [  4.90798636e-01,  -6.40987562e-17,  -6.52520778e-01,\n",
       "          -3.20493781e-16],\n",
       "        [  8.10498888e-01,   6.40987562e-17,   9.87836974e-02,\n",
       "           3.20493781e-16],\n",
       "        [  0.00000000e+00,  -8.50650808e-01,   0.00000000e+00,\n",
       "          -5.25731112e-01],\n",
       "        [  0.00000000e+00,  -5.25731112e-01,   0.00000000e+00,\n",
       "           8.50650808e-01]])"
      ]
     },
     "execution_count": 69,
     "metadata": {},
     "output_type": "execute_result"
    }
   ],
   "source": [
    "V.H"
   ]
  },
  {
   "cell_type": "code",
   "execution_count": null,
   "metadata": {
    "collapsed": true
   },
   "outputs": [],
   "source": []
  }
 ],
 "metadata": {
  "kernelspec": {
   "display_name": "Python [conda root]",
   "language": "python",
   "name": "conda-root-py"
  },
  "language_info": {
   "codemirror_mode": {
    "name": "ipython",
    "version": 3
   },
   "file_extension": ".py",
   "mimetype": "text/x-python",
   "name": "python",
   "nbconvert_exporter": "python",
   "pygments_lexer": "ipython3",
   "version": "3.5.2"
  }
 },
 "nbformat": 4,
 "nbformat_minor": 2
}
