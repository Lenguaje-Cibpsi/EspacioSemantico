{
 "cells": [
  {
   "cell_type": "code",
   "execution_count": null,
   "metadata": {
    "collapsed": true
   },
   "outputs": [],
   "source": [
    "#Entrada - Salida\n",
    "import numpy as np\n",
    "import scipy.io as sio\n",
    "import pandas as pd\n",
    "import csv\n",
    "\n",
    "\n"
   ]
  },
  {
   "cell_type": "code",
   "execution_count": null,
   "metadata": {
    "collapsed": true
   },
   "outputs": [],
   "source": [
    "\"\"\"\" Plot demonstrating the integral as the area under a curve. Although this is a simple example, it demonstrates some important tweaks:\n",
    "\n",
    "    * A simple line plot with custom color and line width.\n",
    "    * A shaded region created using a Polygon patch.\n",
    "    * A text label with mathtext rendering.\n",
    "    * figtext calls to label the x- and y-axes.\n",
    "    * Use of axis spines to hide the top and right spines.\n",
    "    * Custom tick placement and labels.\n",
    "\"\"\"\"\"\n",
    "import numpy as np\n",
    "from math import exp\n",
    "import matplotlib.pyplot as plt\n",
    "from matplotlib.patches import Polygon\n",
    "\n",
    "\n",
    "def vecexp(x):\n",
    "    l=x.size\n",
    "    y=np.zeros(l)\n",
    "    for i in range(l):\n",
    "        y[i]=exp(x[i])\n",
    "    return y\n",
    "\n",
    "\n",
    "def func(x):\n",
    "    return (x - 3) * (vecexp(x) - 5) * (x - 7) + 85\n",
    "\n",
    "\n",
    "        \n",
    "a, b = 0.2, 1.5 # integral limits\n",
    "x = np.linspace(0, 1.5)\n",
    "y = func(x)\n",
    "\n",
    "fig, ax = plt.subplots()\n",
    "plt.plot(x, y, 'r', linewidth=2)\n",
    "plt.ylim(ymin=0)\n",
    "\n",
    "# Make the shaded region\n",
    "ix = np.linspace(a, b)\n",
    "iy = func(ix)\n",
    "verts = [(a, 0)] + list(zip(ix, iy)) + [(b, 0)]\n",
    "poly = Polygon(verts, facecolor='0.9', edgecolor='0.5')\n",
    "ax.add_patch(poly)\n",
    "\n",
    "plt.text(0.5 * (a + b), y[10], r\"$\\int_a^b f(x)\\mathrm{d}x$\",\n",
    "         horizontalalignment='center', fontsize=20)\n",
    "\n",
    "plt.figtext(0.9, 0.05, '$x$') #localizar klas etiquetas\n",
    "plt.figtext(0.1, 0.9, '$y$')\n",
    "\n",
    "ax.spines['right'].set_visible(False)\n",
    "ax.spines['top'].set_visible(False)\n",
    "ax.xaxis.set_ticks_position('bottom')\n",
    "\n",
    "ax.set_xticks((a, b))\n",
    "ax.set_xticklabels(('$a$', '$b$'))\n",
    "ax.set_yticks([])\n",
    "\n",
    "plt.show()"
   ]
  },
  {
   "cell_type": "code",
   "execution_count": null,
   "metadata": {
    "collapsed": true
   },
   "outputs": [],
   "source": [
    "import numpy as np\n",
    "import scipy.io as sio\n",
    "import pandas as pd\n",
    "import csv\n",
    "import nltk\n",
    "from nltk.corpus import brown\n",
    "from nltk.probability import FreqDist\n",
    "\n",
    "words = FreqDist()\n",
    "\n",
    "for sentence in brown.sents():\n",
    "    for word in sentence:\n",
    "        words[word.lower()] +=1\n",
    "\n",
    "#print (words['the'])\n",
    "#print (words.freq(\"the\"))\n",
    "\n",
    "\n",
    "#with  as csvfile\n",
    "filename='determinantes'\n",
    "suf='.csv'\n",
    "#lista=[]\n",
    "readword = csv.reader(open(filename+suf, newline='\\n'), delimiter=' ')\n",
    "wrtd=csv.writer(open(filename+'freq'+suf, 'w'),delimiter=',')\n",
    "for row in readword:\n",
    "    x=words.freq(row[0])\n",
    "    wrtd.writerow([row[0], x])"
   ]
  }
 ],
 "metadata": {
  "kernelspec": {
   "display_name": "Python [default]",
   "language": "python",
   "name": "python3"
  },
  "language_info": {
   "codemirror_mode": {
    "name": "ipython",
    "version": 3
   },
   "file_extension": ".py",
   "mimetype": "text/x-python",
   "name": "python",
   "nbconvert_exporter": "python",
   "pygments_lexer": "ipython3",
   "version": "3.5.2"
  }
 },
 "nbformat": 4,
 "nbformat_minor": 2
}
